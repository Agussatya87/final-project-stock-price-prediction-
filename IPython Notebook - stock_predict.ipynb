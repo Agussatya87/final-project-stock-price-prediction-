{
 "cells": [
  {
   "cell_type": "code",
   "execution_count": 8,
   "metadata": {},
   "outputs": [],
   "source": [
    "import numpy as np\n",
    "import pandas as pd\n",
    "from sklearn.model_selection import train_test_split\n",
    "from sklearn.preprocessing import MinMaxScaler\n",
    "from keras.models import Sequential\n",
    "from keras.layers import LSTM, Dense\n",
    "import yfinance as yf\n",
    "from datetime import date"
   ]
  },
  {
   "cell_type": "code",
   "execution_count": 9,
   "metadata": {},
   "outputs": [],
   "source": [
    "def load_data(ticker, start, end):\n",
    "    data = yf.download(ticker, start, end)\n",
    "    data.reset_index(inplace=True)\n",
    "    return data"
   ]
  },
  {
   "cell_type": "code",
   "execution_count": 10,
   "metadata": {},
   "outputs": [],
   "source": [
    "def create_sequences(data, sequence_length):\n",
    "    sequences = []\n",
    "    target = []\n",
    "    for i in range(len(data) - sequence_length):\n",
    "        seq = data[i:i+sequence_length, 0]\n",
    "        label = data[i+sequence_length, 0]\n",
    "        sequences.append(seq)\n",
    "        target.append(label)\n",
    "    return np.array(sequences), np.array(target)"
   ]
  },
  {
   "cell_type": "code",
   "execution_count": 11,
   "metadata": {},
   "outputs": [
    {
     "name": "stdout",
     "output_type": "stream",
     "text": [
      "[*********************100%%**********************]  1 of 1 completed\n"
     ]
    }
   ],
   "source": [
    "START = \"2014-01-01\"\n",
    "TODAY = date.today().strftime(\"%Y-%m-%d\")\n",
    "selected_stock = 'AAPL'\n",
    "data = load_data(selected_stock, START, TODAY)\n",
    "scaler = MinMaxScaler()\n",
    "scaled_data = scaler.fit_transform(data['Close'].values.reshape(-1, 1))"
   ]
  },
  {
   "cell_type": "code",
   "execution_count": 12,
   "metadata": {},
   "outputs": [],
   "source": [
    "sequence_length = 50\n",
    "X, y = create_sequences(scaled_data, sequence_length)\n",
    "X_train, X_test, y_train, y_test = train_test_split(X, y, test_size=0.2, random_state=42)"
   ]
  },
  {
   "cell_type": "code",
   "execution_count": 13,
   "metadata": {},
   "outputs": [],
   "source": [
    "X_train = X_train.reshape((X_train.shape[0], X_train.shape[1], 1))"
   ]
  },
  {
   "cell_type": "code",
   "execution_count": 14,
   "metadata": {},
   "outputs": [],
   "source": [
    "model = Sequential()\n",
    "model.add(LSTM(units=50, activation='relu', input_shape=(X_train.shape[1], 1)))\n",
    "model.add(Dense(units=1))\n",
    "model.compile(optimizer='adam', loss='mean_squared_error')"
   ]
  },
  {
   "cell_type": "code",
   "execution_count": 15,
   "metadata": {},
   "outputs": [
    {
     "name": "stdout",
     "output_type": "stream",
     "text": [
      "Epoch 1/50\n",
      "62/62 [==============================] - 2s 21ms/step - loss: 0.0461 - val_loss: 0.0031\n",
      "Epoch 2/50\n",
      "62/62 [==============================] - 1s 17ms/step - loss: 0.0011 - val_loss: 7.7909e-04\n",
      "Epoch 3/50\n",
      "62/62 [==============================] - 1s 15ms/step - loss: 5.4999e-04 - val_loss: 5.3433e-04\n",
      "Epoch 4/50\n",
      "62/62 [==============================] - 1s 15ms/step - loss: 4.5112e-04 - val_loss: 4.7543e-04\n",
      "Epoch 5/50\n",
      "62/62 [==============================] - 1s 15ms/step - loss: 4.1948e-04 - val_loss: 4.8152e-04\n",
      "Epoch 6/50\n",
      "62/62 [==============================] - 1s 16ms/step - loss: 3.9568e-04 - val_loss: 4.8113e-04\n",
      "Epoch 7/50\n",
      "62/62 [==============================] - 1s 16ms/step - loss: 4.2091e-04 - val_loss: 5.2874e-04\n",
      "Epoch 8/50\n",
      "62/62 [==============================] - 1s 15ms/step - loss: 3.8633e-04 - val_loss: 4.2978e-04\n",
      "Epoch 9/50\n",
      "62/62 [==============================] - 1s 15ms/step - loss: 3.7459e-04 - val_loss: 4.2696e-04\n",
      "Epoch 10/50\n",
      "62/62 [==============================] - 1s 13ms/step - loss: 3.7106e-04 - val_loss: 3.8457e-04\n",
      "Epoch 11/50\n",
      "62/62 [==============================] - 1s 13ms/step - loss: 3.6222e-04 - val_loss: 3.5862e-04\n",
      "Epoch 12/50\n",
      "62/62 [==============================] - 1s 14ms/step - loss: 3.4518e-04 - val_loss: 3.5044e-04\n",
      "Epoch 13/50\n",
      "62/62 [==============================] - 1s 14ms/step - loss: 3.6277e-04 - val_loss: 3.5879e-04\n",
      "Epoch 14/50\n",
      "62/62 [==============================] - 1s 15ms/step - loss: 3.5477e-04 - val_loss: 5.4151e-04\n",
      "Epoch 15/50\n",
      "62/62 [==============================] - 1s 14ms/step - loss: 3.5153e-04 - val_loss: 3.2845e-04\n",
      "Epoch 16/50\n",
      "62/62 [==============================] - 1s 13ms/step - loss: 3.2928e-04 - val_loss: 3.1642e-04\n",
      "Epoch 17/50\n",
      "62/62 [==============================] - 1s 14ms/step - loss: 3.2395e-04 - val_loss: 3.0801e-04\n",
      "Epoch 18/50\n",
      "62/62 [==============================] - 1s 13ms/step - loss: 2.9755e-04 - val_loss: 3.2281e-04\n",
      "Epoch 19/50\n",
      "62/62 [==============================] - 1s 13ms/step - loss: 2.9701e-04 - val_loss: 3.3441e-04\n",
      "Epoch 20/50\n",
      "62/62 [==============================] - 1s 15ms/step - loss: 3.0311e-04 - val_loss: 3.2786e-04\n",
      "Epoch 21/50\n",
      "62/62 [==============================] - 1s 14ms/step - loss: 2.9667e-04 - val_loss: 3.0360e-04\n",
      "Epoch 22/50\n",
      "62/62 [==============================] - 1s 14ms/step - loss: 2.7671e-04 - val_loss: 2.6584e-04\n",
      "Epoch 23/50\n",
      "62/62 [==============================] - 1s 15ms/step - loss: 2.9791e-04 - val_loss: 3.2489e-04\n",
      "Epoch 24/50\n",
      "62/62 [==============================] - 1s 15ms/step - loss: 3.0049e-04 - val_loss: 3.1352e-04\n",
      "Epoch 25/50\n",
      "62/62 [==============================] - 1s 15ms/step - loss: 2.7890e-04 - val_loss: 2.6733e-04\n",
      "Epoch 26/50\n",
      "62/62 [==============================] - 1s 15ms/step - loss: 2.5713e-04 - val_loss: 2.6151e-04\n",
      "Epoch 27/50\n",
      "62/62 [==============================] - 1s 15ms/step - loss: 2.6382e-04 - val_loss: 3.7441e-04\n",
      "Epoch 28/50\n",
      "62/62 [==============================] - 1s 15ms/step - loss: 2.9991e-04 - val_loss: 2.5942e-04\n",
      "Epoch 29/50\n",
      "62/62 [==============================] - 1s 15ms/step - loss: 2.5724e-04 - val_loss: 2.8376e-04\n",
      "Epoch 30/50\n",
      "62/62 [==============================] - 1s 15ms/step - loss: 2.4858e-04 - val_loss: 2.8177e-04\n",
      "Epoch 31/50\n",
      "62/62 [==============================] - 1s 15ms/step - loss: 2.3738e-04 - val_loss: 2.3441e-04\n",
      "Epoch 32/50\n",
      "62/62 [==============================] - 1s 15ms/step - loss: 2.3583e-04 - val_loss: 2.2629e-04\n",
      "Epoch 33/50\n",
      "62/62 [==============================] - 1s 16ms/step - loss: 2.3167e-04 - val_loss: 2.0551e-04\n",
      "Epoch 34/50\n",
      "62/62 [==============================] - 1s 15ms/step - loss: 2.3542e-04 - val_loss: 2.0210e-04\n",
      "Epoch 35/50\n",
      "62/62 [==============================] - 1s 16ms/step - loss: 2.2966e-04 - val_loss: 2.2875e-04\n",
      "Epoch 36/50\n",
      "62/62 [==============================] - 1s 16ms/step - loss: 2.1959e-04 - val_loss: 2.3532e-04\n",
      "Epoch 37/50\n",
      "62/62 [==============================] - 1s 15ms/step - loss: 2.3420e-04 - val_loss: 1.9129e-04\n",
      "Epoch 38/50\n",
      "62/62 [==============================] - 1s 15ms/step - loss: 2.3329e-04 - val_loss: 2.5697e-04\n",
      "Epoch 39/50\n",
      "62/62 [==============================] - 1s 15ms/step - loss: 2.2499e-04 - val_loss: 1.8898e-04\n",
      "Epoch 40/50\n",
      "62/62 [==============================] - 1s 15ms/step - loss: 2.5000e-04 - val_loss: 1.9233e-04\n",
      "Epoch 41/50\n",
      "62/62 [==============================] - 1s 16ms/step - loss: 2.2072e-04 - val_loss: 1.9485e-04\n",
      "Epoch 42/50\n",
      "62/62 [==============================] - 1s 15ms/step - loss: 2.1748e-04 - val_loss: 2.1581e-04\n",
      "Epoch 43/50\n",
      "62/62 [==============================] - 1s 15ms/step - loss: 2.0034e-04 - val_loss: 2.5579e-04\n",
      "Epoch 44/50\n",
      "62/62 [==============================] - 1s 15ms/step - loss: 2.0895e-04 - val_loss: 1.8806e-04\n",
      "Epoch 45/50\n",
      "62/62 [==============================] - 1s 15ms/step - loss: 2.0624e-04 - val_loss: 2.0414e-04\n",
      "Epoch 46/50\n",
      "62/62 [==============================] - 1s 15ms/step - loss: 2.1195e-04 - val_loss: 1.8808e-04\n",
      "Epoch 47/50\n",
      "62/62 [==============================] - 1s 15ms/step - loss: 1.9777e-04 - val_loss: 1.7538e-04\n",
      "Epoch 48/50\n",
      "62/62 [==============================] - 1s 15ms/step - loss: 2.0973e-04 - val_loss: 1.7415e-04\n",
      "Epoch 49/50\n",
      "62/62 [==============================] - 1s 15ms/step - loss: 2.1889e-04 - val_loss: 1.6328e-04\n",
      "Epoch 50/50\n",
      "62/62 [==============================] - 1s 15ms/step - loss: 1.8995e-04 - val_loss: 3.1010e-04\n"
     ]
    },
    {
     "data": {
      "text/plain": [
       "<keras.src.callbacks.History at 0x146550a32d0>"
      ]
     },
     "execution_count": 15,
     "metadata": {},
     "output_type": "execute_result"
    }
   ],
   "source": [
    "model.fit(X_train, y_train, epochs=50, batch_size=32, validation_data=(X_test, y_test))"
   ]
  },
  {
   "cell_type": "code",
   "execution_count": 16,
   "metadata": {},
   "outputs": [
    {
     "name": "stderr",
     "output_type": "stream",
     "text": [
      "c:\\Users\\USER\\AppData\\Local\\Programs\\Python\\Python311\\Lib\\site-packages\\keras\\src\\engine\\training.py:3079: UserWarning: You are saving your model as an HDF5 file via `model.save()`. This file format is considered legacy. We recommend using instead the native Keras format, e.g. `model.save('my_model.keras')`.\n",
      "  saving_api.save_model(\n"
     ]
    }
   ],
   "source": [
    "model.save('stock_predict_model.h5')"
   ]
  }
 ],
 "metadata": {
  "kernelspec": {
   "display_name": "Python 3",
   "language": "python",
   "name": "python3"
  },
  "language_info": {
   "codemirror_mode": {
    "name": "ipython",
    "version": 3
   },
   "file_extension": ".py",
   "mimetype": "text/x-python",
   "name": "python",
   "nbconvert_exporter": "python",
   "pygments_lexer": "ipython3",
   "version": "3.11.1"
  }
 },
 "nbformat": 4,
 "nbformat_minor": 2
}
